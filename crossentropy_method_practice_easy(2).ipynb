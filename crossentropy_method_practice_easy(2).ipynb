{
  "cells": [
    {
      "cell_type": "markdown",
      "metadata": {
        "id": "SbdP63XgY6Iu"
      },
      "source": [
        "# Crossentropy method\n",
        "\n",
        "This notebook will teach you to solve reinforcement learning problems with crossentropy method. We'll follow-up by scaling everything up and using neural network policy."
      ]
    },
    {
      "cell_type": "code",
      "execution_count": 15,
      "metadata": {
        "id": "U04eXz75Y6Ix"
      },
      "outputs": [],
      "source": [
        "import os"
      ]
    },
    {
      "cell_type": "code",
      "execution_count": null,
      "metadata": {
        "id": "FyN1W5CYY6I0"
      },
      "outputs": [],
      "source": [
        "import gym\n",
        "import numpy as np, pandas as pd\n",
        "\n",
        "env = gym.make(\"Taxi-v3\")\n",
        "env.reset()\n",
        "env.render()"
      ]
    },
    {
      "cell_type": "code",
      "execution_count": null,
      "metadata": {
        "colab": {
          "base_uri": "https://localhost:8080/"
        },
        "id": "sPRbwMEvY6I1",
        "outputId": "0fbf3ec3-4a03-44b0-eaa5-c0710469acb2"
      },
      "outputs": [
        {
          "output_type": "stream",
          "name": "stdout",
          "text": [
            "n_states=500, n_actions=6\n"
          ]
        }
      ],
      "source": [
        "n_states = env.observation_space.n\n",
        "n_actions = env.action_space.n\n",
        "\n",
        "print(\"n_states=%i, n_actions=%i\"%(n_states,n_actions))"
      ]
    },
    {
      "cell_type": "markdown",
      "metadata": {
        "id": "sIznn_F-Y6I2"
      },
      "source": [
        "# Create stochastic policy\n",
        "\n",
        "This time our policy should be a probability distribution.\n",
        "\n",
        "```policy[s,a] = P(take action a | in state s)```\n",
        "\n",
        "Since we still use integer state and action representations, you can use a 2-dimensional array to represent the policy.\n",
        "\n",
        "Please initialize policy __uniformly__, that is, probabililities of all actions should be equal.\n"
      ]
    },
    {
      "cell_type": "markdown",
      "metadata": {
        "id": "SiQXnb0XY6I4"
      },
      "source": [
        "# Initialize policy (0.5pts)"
      ]
    },
    {
      "cell_type": "code",
      "execution_count": null,
      "metadata": {
        "colab": {
          "base_uri": "https://localhost:8080/"
        },
        "id": "Xuv4E8EgY6I4",
        "outputId": "d7903ce9-8d60-4614-e58c-9620e851075d"
      },
      "outputs": [
        {
          "output_type": "stream",
          "name": "stdout",
          "text": [
            "Ok!\n"
          ]
        }
      ],
      "source": [
        "policy = np.ones((n_states, n_actions))/n_actions\n",
        "assert type(policy) in (np.ndarray,np.matrix)\n",
        "assert np.allclose(policy,1./n_actions)\n",
        "assert np.allclose(np.sum(policy,axis=1), 1)\n",
        "print(\"Ok!\")"
      ]
    },
    {
      "cell_type": "markdown",
      "metadata": {
        "id": "pDX1FOeTY6I5"
      },
      "source": [
        "# Play the game (0.5pts)\n",
        "\n",
        "Just like before, but we also record all states and actions we took."
      ]
    },
    {
      "cell_type": "code",
      "execution_count": null,
      "metadata": {
        "id": "qgSxx3puY6I5"
      },
      "outputs": [],
      "source": [
        "def generate_session(policy,t_max=10**4):\n",
        "    \"\"\"\n",
        "    Play game until end or for t_max ticks.\n",
        "    :param policy: an array of shape [n_states,n_actions] with action probabilities\n",
        "    :returns: list of states, list of actions and sum of rewards\n",
        "    \"\"\"\n",
        "    states,actions = [],[]\n",
        "    total_reward = 0.\n",
        "\n",
        "    s = env.reset()\n",
        "\n",
        "    for t in range(t_max):\n",
        "\n",
        "        a = np.random.choice(n_actions, 1, p=policy[s])[0]\n",
        "\n",
        "        new_s, r, done, info = env.step(a)\n",
        "\n",
        "        #Record state, action and add up reward to states,actions and total_reward accordingly.\n",
        "        states.append(s)\n",
        "        actions.append(a)\n",
        "        total_reward += r\n",
        "\n",
        "        s = new_s\n",
        "        if done:\n",
        "            break\n",
        "    return states, actions, total_reward"
      ]
    },
    {
      "cell_type": "code",
      "execution_count": null,
      "metadata": {
        "id": "Zg-f6u3fY6I7"
      },
      "outputs": [],
      "source": [
        "s,a,r = generate_session(policy)\n",
        "assert type(s) == type(a) == list\n",
        "assert len(s) == len(a)\n",
        "assert type(r) in [float,np.float]"
      ]
    },
    {
      "cell_type": "code",
      "execution_count": 21,
      "metadata": {
        "id": "CDY_QZZ-Y6I7",
        "colab": {
          "base_uri": "https://localhost:8080/",
          "height": 467
        },
        "outputId": "79d08473-ec44-4215-f7b7-fb6709be9d77"
      },
      "outputs": [
        {
          "output_type": "execute_result",
          "data": {
            "text/plain": [
              "<matplotlib.legend.Legend at 0x7bd8fad0a510>"
            ]
          },
          "metadata": {},
          "execution_count": 21
        },
        {
          "output_type": "display_data",
          "data": {
            "text/plain": [
              "<Figure size 640x480 with 1 Axes>"
            ],
            "image/png": "[encoded data removed]"
          },
          "metadata": {}
        }
      ],
      "source": [
        "#let's see the initial reward distribution\n",
        "import matplotlib.pyplot as plt\n",
        "%matplotlib inline\n",
        "\n",
        "sample_rewards = [generate_session(policy,t_max=1000)[-1] for _ in range(200)]\n",
        "\n",
        "plt.hist(sample_rewards,bins=20);\n",
        "plt.vlines([np.percentile(sample_rewards, 50)], [0], [100], label=\"50'th percentile\", color='green')\n",
        "plt.vlines([np.percentile(sample_rewards, 90)], [0], [100], label=\"90'th percentile\", color='red')\n",
        "plt.legend()"
      ]
    },
    {
      "cell_type": "markdown",
      "metadata": {
        "id": "_3IpPpuSY6I8"
      },
      "source": [
        "### Crossentropy method steps (1pts)"
      ]
    },
    {
      "cell_type": "code",
      "execution_count": 22,
      "metadata": {
        "id": "htIKhycSY6I8"
      },
      "outputs": [],
      "source": [
        "def select_elites(states_batch,actions_batch,rewards_batch,percentile=50):\n",
        "    \"\"\"\n",
        "    Select states and actions from games that have rewards >= percentile\n",
        "    :param states_batch: list of lists of states, states_batch[session_i][t]\n",
        "    :param actions_batch: list of lists of actions, actions_batch[session_i][t]\n",
        "    :param rewards_batch: list of rewards, rewards_batch[session_i][t]\n",
        "\n",
        "    :returns: elite_states,elite_actions, both 1D lists of states and respective actions from elite sessions\n",
        "\n",
        "    Please return elite states and actions in their original order\n",
        "    [i.e. sorted by session number and timestep within session]\n",
        "\n",
        "    If you're confused, see examples below. Please don't assume that states are integers (they'll get different later).\n",
        "    \"\"\"\n",
        "\n",
        "    reward_threshold = np.percentile(rewards_batch, percentile)\n",
        "\n",
        "    elite_states  = [s for i in range(len(states_batch)) if rewards_batch[i]>=reward_threshold for s in states_batch[i]]\n",
        "    elite_actions = [a for i in range(len(actions_batch)) if rewards_batch[i]>=reward_threshold for a in actions_batch[i]]\n",
        "\n",
        "    return elite_states,elite_actions"
      ]
    },
    {
      "cell_type": "code",
      "execution_count": 23,
      "metadata": {
        "id": "Mu2tRjyfY6I-",
        "colab": {
          "base_uri": "https://localhost:8080/"
        },
        "outputId": "a12ab48c-7ad8-4b90-e37d-e8fd86067590"
      },
      "outputs": [
        {
          "output_type": "stream",
          "name": "stdout",
          "text": [
            "Ok!\n"
          ]
        }
      ],
      "source": [
        "states_batch = [\n",
        "    [1,2,3],   #game1\n",
        "    [4,2,0,2], #game2\n",
        "    [3,1]      #game3\n",
        "]\n",
        "\n",
        "actions_batch = [\n",
        "    [0,2,4],   #game1\n",
        "    [3,2,0,1], #game2\n",
        "    [3,3]      #game3\n",
        "]\n",
        "rewards_batch = [\n",
        "    3,         #game1\n",
        "    4,         #game2\n",
        "    5,         #game3\n",
        "]\n",
        "\n",
        "test_result_0 = select_elites(states_batch, actions_batch, rewards_batch, percentile=0)\n",
        "test_result_40 = select_elites(states_batch, actions_batch, rewards_batch, percentile=30)\n",
        "test_result_90 = select_elites(states_batch, actions_batch, rewards_batch, percentile=90)\n",
        "test_result_100 = select_elites(states_batch, actions_batch, rewards_batch, percentile=100)\n",
        "\n",
        "assert np.all(test_result_0[0] == [1, 2, 3, 4, 2, 0, 2, 3, 1])  \\\n",
        "   and np.all(test_result_0[1] == [0, 2, 4, 3, 2, 0, 1, 3, 3]),\\\n",
        "        \"For percentile 0 you should return all states and actions in chronological order\"\n",
        "assert np.all(test_result_40[0] == [4, 2, 0, 2, 3, 1]) and \\\n",
        "        np.all(test_result_40[1] ==[3, 2, 0, 1, 3, 3]),\\\n",
        "        \"For percentile 30 you should only select states/actions from two first\"\n",
        "assert np.all(test_result_90[0] == [3,1]) and \\\n",
        "        np.all(test_result_90[1] == [3,3]),\\\n",
        "        \"For percentile 90 you should only select states/actions from one game\"\n",
        "assert np.all(test_result_100[0] == [3,1]) and\\\n",
        "       np.all(test_result_100[1] == [3,3]),\\\n",
        "        \"Please make sure you use >=, not >. Also double-check how you compute percentile.\"\n",
        "print(\"Ok!\")"
      ]
    },
    {
      "cell_type": "code",
      "execution_count": 24,
      "metadata": {
        "id": "5GkFD5gRY6I-"
      },
      "outputs": [],
      "source": [
        "from collections import defaultdict\n",
        "def update_policy(elite_states,elite_actions):\n",
        "    \"\"\"\n",
        "    Given old policy and a list of elite states/actions from select_elites,\n",
        "    return new updated policy where each action probability is proportional to\n",
        "\n",
        "    policy[s_i,a_i] ~ #[occurences of si and ai in elite states/actions]\n",
        "\n",
        "    Don't forget to normalize policy to get valid probabilities and handle 0/0 case.\n",
        "    In case you never visited a state, set probabilities for all actions to 1./n_actions\n",
        "\n",
        "    :param elite_states: 1D list of states from elite sessions\n",
        "    :param elite_actions: 1D list of actions from elite sessions\n",
        "\n",
        "    \"\"\"\n",
        "\n",
        "    new_policy = np.zeros([n_states,n_actions])\n",
        "\n",
        "    #Don't forget to set 1/n_actions for all actions in unvisited states.\n",
        "    state_action_dict = defaultdict(lambda: [0]*n_actions)\n",
        "    for i in range(len(elite_states)):\n",
        "        state_action_dict[elite_states[i]][elite_actions[i]]+=1\n",
        "    for i in range(n_states):\n",
        "        if i not in state_action_dict:\n",
        "            new_policy[i] = [1/n_actions]*n_actions\n",
        "        else:\n",
        "            new_policy[i] = [p/sum(state_action_dict[i]) for p in state_action_dict[i]]\n",
        "\n",
        "\n",
        "    return new_policy"
      ]
    },
    {
      "cell_type": "code",
      "execution_count": 26,
      "metadata": {
        "id": "UQWpGnlyY6I-",
        "colab": {
          "base_uri": "https://localhost:8080/"
        },
        "outputId": "674a3ede-075e-48e2-e9ae-7cf51724b0ae"
      },
      "outputs": [
        {
          "output_type": "stream",
          "name": "stdout",
          "text": [
            "Ok!\n"
          ]
        }
      ],
      "source": [
        "elite_states, elite_actions = ([1, 2, 3, 4, 2, 0, 2, 3, 1], [0, 2, 4, 3, 2, 0, 1, 3, 3])\n",
        "\n",
        "\n",
        "new_policy = update_policy(elite_states,elite_actions)\n",
        "\n",
        "assert np.isfinite(new_policy).all(), \"Your new policy contains NaNs or +-inf. Make sure you don't divide by zero.\"\n",
        "assert np.all(new_policy>=0), \"Your new policy can't have negative action probabilities\"\n",
        "assert np.allclose(new_policy.sum(axis=-1),1), \"Your new policy should be a valid probability distribution over actions\"\n",
        "reference_answer = np.array([\n",
        "       [ 1.        ,  0.        ,  0.        ,  0.        ,  0.        ],\n",
        "       [ 0.5       ,  0.        ,  0.        ,  0.5       ,  0.        ],\n",
        "       [ 0.        ,  0.33333333,  0.66666667,  0.        ,  0.        ],\n",
        "       [ 0.        ,  0.        ,  0.        ,  0.5       ,  0.5       ]])\n",
        "assert np.allclose(new_policy[:4,:5],reference_answer)\n",
        "print(\"Ok!\")"
      ]
    },
    {
      "cell_type": "markdown",
      "metadata": {
        "id": "tCjNWImFY6I_"
      },
      "source": [
        "# Training loop (1pts)\n",
        "Generate sessions, select N best and fit to those."
      ]
    },
    {
      "cell_type": "code",
      "execution_count": 27,
      "metadata": {
        "id": "VL0EKgydY6I_"
      },
      "outputs": [],
      "source": [
        "from IPython.display import clear_output\n",
        "\n",
        "def show_progress(batch_rewards, log, percentile, reward_range=[-990,+10]):\n",
        "    \"\"\"\n",
        "    A convenience function that displays training progress.\n",
        "    No cool math here, just charts.\n",
        "    \"\"\"\n",
        "\n",
        "    mean_reward, threshold = np.mean(batch_rewards), np.percentile(batch_rewards, percentile)\n",
        "    log.append([mean_reward,threshold])\n",
        "\n",
        "    clear_output(True)\n",
        "    print(\"mean reward = %.3f, threshold=%.3f\"%(mean_reward, threshold))\n",
        "    plt.figure(figsize=[8,4])\n",
        "    plt.subplot(1,2,1)\n",
        "    plt.plot(list(zip(*log))[0], label='Mean rewards')\n",
        "    plt.plot(list(zip(*log))[1], label='Reward thresholds')\n",
        "    plt.legend()\n",
        "    plt.grid()\n",
        "\n",
        "    plt.subplot(1,2,2)\n",
        "    plt.hist(batch_rewards,range=reward_range);\n",
        "    plt.vlines([np.percentile(batch_rewards, percentile)], [0], [100], label=\"percentile\", color='red')\n",
        "    plt.legend()\n",
        "    plt.grid()\n",
        "\n",
        "    plt.show()"
      ]
    },
    {
      "cell_type": "code",
      "execution_count": 28,
      "metadata": {
        "id": "vY6yJcW7Y6I_"
      },
      "outputs": [],
      "source": [
        "#reset policy just in case\n",
        "policy = np.ones([n_states, n_actions]) / n_actions"
      ]
    },
    {
      "cell_type": "code",
      "execution_count": 30,
      "metadata": {
        "id": "GXqPovaFY6JA",
        "colab": {
          "base_uri": "https://localhost:8080/",
          "height": 405
        },
        "outputId": "46cd73cc-f8b4-4b54-8349-25883e3809f8"
      },
      "outputs": [
        {
          "output_type": "stream",
          "name": "stdout",
          "text": [
            "mean reward = -64.204, threshold=6.000\n"
          ]
        },
        {
          "output_type": "display_data",
          "data": {
            "text/plain": [
              "<Figure size 800x400 with 2 Axes>"
            ],
            "image/png": "[encoded data removed]"
          },
          "metadata": {}
        }
      ],
      "source": [
        "n_sessions = 250  #sample this many sessions\n",
        "percentile = 50  #take this percent of session with highest rewards\n",
        "learning_rate = 0.5  #add this thing to all counts for stability\n",
        "\n",
        "log = []\n",
        "\n",
        "for i in range(100):\n",
        "\n",
        "    sessions = [generate_session(policy) for _ in range(n_sessions)]\n",
        "\n",
        "    batch_states,batch_actions,batch_rewards = zip(*sessions)\n",
        "\n",
        "    elite_states, elite_actions = select_elites(batch_states,batch_actions,batch_rewards,percentile)\n",
        "\n",
        "    new_policy = update_policy(elite_states,elite_actions)\n",
        "\n",
        "    policy = learning_rate * new_policy + (1-learning_rate) * policy\n",
        "\n",
        "    #display results on chart\n",
        "    show_progress(batch_rewards, log, percentile)"
      ]
    },
    {
      "cell_type": "markdown",
      "metadata": {
        "id": "ogSIaOA6Y6JA"
      },
      "source": [
        "# Tabular crossentropy method\n",
        "\n",
        "You may have noticed that the taxi problem quickly converges from -100 to a near-optimal score and then descends back into -50/-100. This is in part because the environment has some innate randomness. Namely, the starting points of passenger/driver change from episode to episode.\n",
        "\n",
        "### Tasks\n",
        "- __1.1__ (1 pts) Find out how the algorithm performance changes if you change different percentile and different n_samples. Show all precentiles on one graph and all n_samples on another\n",
        "- __1.2__ (1 pts) Tune the algorithm to end up with positive average score.\n",
        "\n",
        "It's okay to modify the existing code.\n"
      ]
    },
    {
      "cell_type": "code",
      "execution_count": null,
      "metadata": {
        "id": "EvUrApP_Y6JB"
      },
      "outputs": [],
      "source": [
        "import gym\n",
        "import numpy as np, pandas as pd\n",
        "\n",
        "env = gym.make(\"Taxi-v2\")\n",
        "env.reset()\n",
        "n_states = env.observation_space.n\n",
        "n_actions = env.action_space.n\n",
        "policy = 1/6. * np.ones([n_states, n_actions])\n",
        "assert type(policy) in (np.ndarray,np.matrix)\n",
        "assert np.allclose(policy,1./n_actions)\n",
        "assert np.allclose(np.sum(policy,axis=1), 1)\n",
        "s,a,r = generate_session(policy)\n",
        "assert type(s) == type(a) == list\n",
        "assert len(s) == len(a)\n",
        "assert type(r) in [float,np.float]\n",
        "policy = np.ones([n_states,n_actions])/n_actions\n",
        "stepCounter = 40"
      ]
    },
    {
      "cell_type": "code",
      "execution_count": 31,
      "metadata": {
        "id": "bvwlSweyY6JC"
      },
      "outputs": [],
      "source": [
        "n_sessions = 250  #sample this many sessions\n",
        "percentiles = []  #take this percent of session with highest rewards\n",
        "learning_rate = 0.5  #add this thing to all counts for stability\n",
        "\n",
        "log = []\n",
        "mean = []\n",
        "for percentile in percentiles:\n",
        "    curMean = []\n",
        "    policy = np.ones([n_states,n_actions])/n_actions\n",
        "    for i in range(stepCounter):\n",
        "\n",
        "        %time sessions = [generate_session(policy) for _ in range(n_sessions)]\n",
        "\n",
        "        states_batch,actions_batch,rewards_batch = zip(*sessions)\n",
        "\n",
        "        elite_states, elite_actions = select_elites(np.array(states_batch),np.array(actions_batch),np.array(rewards_batch),percentile=50)\n",
        "\n",
        "        #set new policy\n",
        "        #update policy\n",
        "        #add mean value\n",
        "        clear_output(True)\n",
        "    mean.append(curMean)\n",
        "    #display results on chart\n",
        "    #show_progress(rewards_batch,log)"
      ]
    },
    {
      "cell_type": "markdown",
      "metadata": {
        "id": "MG8P1p6PY6JC"
      },
      "source": [
        "# How do different percentiles affect training efficiency?"
      ]
    },
    {
      "cell_type": "code",
      "execution_count": null,
      "metadata": {
        "id": "Lpxug3-QY6JC"
      },
      "outputs": [],
      "source": [
        "# Describe your observations"
      ]
    },
    {
      "cell_type": "code",
      "execution_count": null,
      "metadata": {
        "id": "10e0FUvDY6JD"
      },
      "outputs": [],
      "source": [
        "n_sessions_ar = []  #sample this many sessions\n",
        "perc = 70  #take this percent of session with highest rewards\n",
        "learning_rate = 0.5  #add this thing to all counts for stability\n",
        "\n",
        "log = []\n",
        "mean = []\n",
        "for n_sessions in n_sessions_ar:\n",
        "    curMean = []\n",
        "    policy = np.ones([n_states,n_actions])/n_actions\n",
        "    for i in range(stepCounter):\n",
        "\n",
        "        %time sessions = [generate_session(policy) for _ in range(n_sessions)]\n",
        "\n",
        "        states_batch,actions_batch,rewards_batch = zip(*sessions)\n",
        "\n",
        "        elite_states, elite_actions = select_elites(np.array(states_batch),\n",
        "                                                    np.array(actions_batch),np.array(rewards_batch),percentile=perc)\n",
        "\n",
        "        #set new policy\n",
        "        #update policy\n",
        "        #add mean value\n",
        "        clear_output(True)\n",
        "    mean.append(curMean)\n",
        "    #display results on chart\n",
        "    #show_progress(rewards_batch,log)"
      ]
    },
    {
      "cell_type": "markdown",
      "metadata": {
        "id": "QDMhd5lDY6JD"
      },
      "source": [
        "# Stabilize positive rewards by averaging policy across 10 games (2 pts)"
      ]
    },
    {
      "cell_type": "code",
      "execution_count": null,
      "metadata": {
        "id": "hK4PaLpmY6JD"
      },
      "outputs": [],
      "source": [
        "def generate_session(policy,t_max=10**4):\n",
        "    \"\"\"\n",
        "    Play game until end or for t_max ticks.\n",
        "    :param policy: an array of shape [n_states,n_actions] with action probabilities\n",
        "    :returns: list of states, list of actions and sum of rewards\n",
        "    \"\"\"\n",
        "    states,actions = [],[]\n",
        "    total_reward = 0.\n",
        "\n",
        "    #code here\n",
        "    return states,actions,total_reward\n"
      ]
    },
    {
      "cell_type": "code",
      "execution_count": null,
      "metadata": {
        "id": "qjWdA86jY6JE"
      },
      "outputs": [],
      "source": [
        "n_sessions = 75  #sample this many sessions\n",
        "percentile = 70  #take this percent of session with highest rewards\n",
        "learning_rate = 0.2  #add this thing to all counts for stability\n",
        "\n",
        "log = []\n",
        "mean = []\n",
        "policy = np.ones([n_states,n_actions])/n_actions\n",
        "for i in range(1000):\n",
        "\n",
        "    %time sessions = [generate_session(policy) for _ in range(n_sessions)]\n",
        "\n",
        "    states_batch,actions_batch,rewards_batch = zip(*sessions)\n",
        "\n",
        "    elite_states, elite_actions = select_elites(np.array(states_batch),np.array(actions_batch),np.array(rewards_batch),percentile=50)\n",
        "\n",
        "    #code here\n",
        "\n",
        "    show_progress(rewards_batch,log)\n",
        "\n",
        "    if(np.mean(rewards_batch) > 7):\n",
        "        print(\"win!\")\n",
        "        break"
      ]
    },
    {
      "cell_type": "markdown",
      "metadata": {
        "id": "luYqCEv6Y6JE"
      },
      "source": [
        "# Digging deeper: approximate crossentropy with neural nets (2 pts)\n",
        "\n",
        "In this section we will train a neural network policy for continuous state space game"
      ]
    },
    {
      "cell_type": "code",
      "execution_count": null,
      "metadata": {
        "id": "ITJrcqhiY6JE"
      },
      "outputs": [],
      "source": [
        "import gym\n",
        "import numpy as np, pandas as pd\n",
        "import matplotlib.pyplot as plt\n",
        "%matplotlib inline\n",
        "env = gym.make(\"CartPole-v0\").env  #if you see \"<classname> has no attribute .env\", remove .env or update gym\n",
        "\n",
        "env.reset()\n",
        "n_actions = env.action_space.n\n",
        "\n",
        "plt.imshow(env.render(\"rgb_array\"))"
      ]
    },
    {
      "cell_type": "markdown",
      "metadata": {
        "id": "-mexxitaY6JF"
      },
      "source": [
        "In this case use NN as a black box. All your should know that it is more complex than a tabular method."
      ]
    },
    {
      "cell_type": "code",
      "execution_count": null,
      "metadata": {
        "id": "TFXbsV9kY6JF"
      },
      "outputs": [],
      "source": [
        "#create agent\n",
        "from sklearn.neural_network import MLPClassifier\n",
        "agent = MLPClassifier(hidden_layer_sizes=(20,20),\n",
        "                      activation='tanh',\n",
        "                      warm_start=True, #keep progress between .fit(...) calls\n",
        "                      max_iter=1 #make only 1 iteration on each .fit(...)\n",
        "                     )\n",
        "#initialize agent to the dimension of state an amount of actions\n",
        "agent.fit([env.reset()]*n_actions,range(n_actions));\n"
      ]
    },
    {
      "cell_type": "code",
      "execution_count": null,
      "metadata": {
        "id": "Qo_3WZKoY6JG"
      },
      "outputs": [],
      "source": [
        "def generate_session(t_max=1000):\n",
        "\n",
        "    states,actions = [],[]\n",
        "    total_reward = 0\n",
        "\n",
        "    s = env.reset()\n",
        "\n",
        "    for t in range(t_max):\n",
        "\n",
        "        #predict array of action probabilities hint: predict_proba\n",
        "\n",
        "\n",
        "        a = np.random.choice(np.arange(n_actions), p=probs)\n",
        "\n",
        "        new_s,r,done,info = env.step(a)\n",
        "\n",
        "        #record sessions like you did before\n",
        "\n",
        "\n",
        "        s = new_s\n",
        "        if done: break\n",
        "    return states,actions,total_reward\n"
      ]
    },
    {
      "cell_type": "code",
      "execution_count": null,
      "metadata": {
        "id": "9MjUVfixY6JG"
      },
      "outputs": [],
      "source": [
        "def select_elites(states_batch,actions_batch,rewards_batch,percentile=50):\n",
        "    \"\"\"\n",
        "    Select states and actions from games that have rewards >= percentile\n",
        "    :param states_batch: list of lists of states, states_batch[session_i][t]\n",
        "    :param actions_batch: list of lists of actions, actions_batch[session_i][t]\n",
        "    :param rewards_batch: list of rewards, rewards_batch[session_i][t]\n",
        "\n",
        "    :returns: elite_states,elite_actions, both 1D lists of states and respective actions from elite sessions\n",
        "\n",
        "    Please return elite states and actions in their original order\n",
        "    [i.e. sorted by session number and timestep within session]\n",
        "\n",
        "    If you're confused, see examples below. Please don't assume that states are integers (they'll get different later).\n",
        "    \"\"\"\n",
        "    reward_threshold = np.percentile(rewards_batch,percentile)\n",
        "\n",
        "    elite_states = []\n",
        "\n",
        "    if(len(np.array(states_batch[0]).shape) == 1):\n",
        "        elite_states = np.hstack(states_batch[rewards_batch >= reward_threshold])\n",
        "    else:\n",
        "        elite_states = np.vstack(states_batch[rewards_batch >= reward_threshold])\n",
        "    elite_actions = np.hstack(actions_batch[rewards_batch >= reward_threshold])\n",
        "\n",
        "    return elite_states,elite_actions\n"
      ]
    },
    {
      "cell_type": "markdown",
      "metadata": {
        "id": "qRy1MHRTY6JH"
      },
      "source": [
        "To train this classification model use fit(states, actions). In this case we are training classificator to predict the correct class (action) in a given state"
      ]
    },
    {
      "cell_type": "code",
      "execution_count": null,
      "metadata": {
        "id": "-wp9OUn3Y6JH"
      },
      "outputs": [],
      "source": [
        "n_sessions = 100\n",
        "percentile = 70\n",
        "log = []\n",
        "\n",
        "for i in range(100):\n",
        "    #generate new sessions\n",
        "    sessions = [generate_session() for _ in range(n_sessions)]\n",
        "\n",
        "    states_batch,actions_batch,rewards_batch = map(np.array,zip(*sessions))\n",
        "    print(states_batch.shape)\n",
        "\n",
        "    elite_states, elite_actions = select_elites(states_batch,actions_batch,rewards_batch,percentile=50)\n",
        "\n",
        "    #fit agent\n",
        "\n",
        "    show_progress(rewards_batch,log,reward_range=[0,np.max(rewards_batch)])\n",
        "\n",
        "    if np.mean(rewards_batch)> 190:\n",
        "        print(\"You Win! You may stop training now via KeyboardInterrupt.\")\n",
        "        break"
      ]
    },
    {
      "cell_type": "markdown",
      "metadata": {
        "id": "4q1Zi0HxY6JH"
      },
      "source": [
        "# Report (1 pts)"
      ]
    },
    {
      "cell_type": "code",
      "execution_count": null,
      "metadata": {
        "id": "W5cSskvKY6JH"
      },
      "outputs": [],
      "source": [
        "# Describe what you did here.  Preferably with plot/report to support it"
      ]
    }
  ],
  "metadata": {
    "kernelspec": {
      "display_name": "Python 3 (ipykernel)",
      "language": "python",
      "name": "python3"
    },
    "language_info": {
      "codemirror_mode": {
        "name": "ipython",
        "version": 3
      },
      "file_extension": ".py",
      "mimetype": "text/x-python",
      "name": "python",
      "nbconvert_exporter": "python",
      "pygments_lexer": "ipython3",
      "version": "3.9.12"
    },
    "colab": {
      "provenance": []
    }
  },
  "nbformat": 4,
  "nbformat_minor": 0
}