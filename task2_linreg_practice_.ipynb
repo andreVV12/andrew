{
  "cells": [
    {
      "cell_type": "markdown",
      "metadata": {
        "id": "JC1axEN98eDv"
      },
      "source": [
        "# ДЗ Линейная регрессия\n",
        "\n",
        "В данном задании мы рассмотрим набор данных об учащихся, собранный в 2006 году в одной из школ Португалии. Данные представлены в неудобном для машинного обучения виде, и содержат мусор. Ваша задача &mdash; привести их к надлежащему виду и обучить на них простую модель.\n",
        "\n",
        "Данные состоят из четырех файлов:\n",
        "- data.csv &mdash; основная таблица с информацией о учащихся\n",
        "- scores.csv &mdash; список финальных оценок по одному из предметов (20-балльная шкала переведенная в проценты)\n",
        "- attendance.csv &mdash; таблица посещений занятий по этому предмету\n",
        "- school_support.txt &mdash; список учащихся, которым оказывается финансовая поддержка\n",
        "\n",
        "Ваша задача &mdash; построить модель для предсказания финальных оценок исходя из всех остальных данных и проверить качество ее работы с помощью кросс-валидации. В качестве алгоритма мы будем использовать линейную регрессию\n",
        "\n",
        "Расшифровка столбцов в data.csv для справки:\n",
        "- age &mdash; возраст\n",
        "- Medu &mdash; уровень образования матери (по некоторой условной шкале)\n",
        "- Fedu &mdash; уровень образования отца (по некоторой условной шкале)\n",
        "- traveltime &mdash; время в пути до школы (1 – < 15 мин., 2 – от 15 до 30 мин., 3 – от 30 мин. to 1 ч.\n",
        "или 4 – > 1 ч.)\n",
        "- studytime &mdash; время, затрачиваемое на занятия вне школы (1 – < 2 ч., 2 – от 2 до 5 ч., 3 – от 5 до 10 ч. или 4 – > 10 ч.)\n",
        "- famrel &mdash; насколько хорошие отношения в семье у учащегося (по некоторой условной шкале)\n",
        "- freetime &mdash; количество свободного времени вне школы (по некоторой условной шкале)\n",
        "- goout &mdash; время, затрачиваемое на общение с друзьями (по некоторой условной шкале)\n",
        "- Dalc &mdash; количество употребления алкоголя в учебные дни (по некоторой условной шкале)\n",
        "- Walc &mdash; количество употребления алкоголя в неучебные дни (по некоторой условной шкале)\n",
        "- health &mdash; уровень здоровья (по некоторой условной шкале)\n",
        "- sex_M &mdash; пол: мужской (1) или женский (0)\n",
        "- address_U &mdash; живет ли учащийся в городе (1) или в пригороде (0)\n",
        "- famsize_LE3 &mdash; размер семьи: не больше 3 человек (1) или больше (0)\n",
        "- Pstatus_T &mdash; живут ли родители вместе (1) или отдельно (0)\n",
        "- nursery &mdash; посещал ли учащийся детский сад\n",
        "- plans_university &mdash; планирует ли учащийся поступать в университет (-1 или 1)\n",
        "- past_failures &mdash; количество неудовлетворительных оценок по другим предметам ранее (от 0 до 4)\n",
        "\n",
        "*Примечание. Несколько признаков в данных содержат ошибки/проблемы/некорректности. Эти проблемы нужно исправить. Для\n",
        "проверки &mdash; всего в данных таких проблем четыре.*"
      ]
    },
    {
      "cell_type": "markdown",
      "metadata": {
        "id": "D1YDONCD8eD0"
      },
      "source": [
        "### Задача 1: сломанный признак (а может и не один)\n",
        "__(1 балл)__\n",
        "\n",
        "Загрузите таблицу data.csv.\n",
        "\n",
        "Найдите в данных сломанный признак (он не соответствует описанию) и исправьте его."
      ]
    },
    {
      "cell_type": "code",
      "execution_count": null,
      "metadata": {
        "id": "TPJNaISz8eD1"
      },
      "outputs": [],
      "source": [
        "import pandas as pd\n",
        "\n",
        "data = pd.read_csv('data.csv')\n",
        "x = data['plans_universitypast_failures'].tolist()\n",
        "a = []\n",
        "b = []\n",
        "for i in range(0, len(x)):\n",
        "    a.append(int(x[i]/10))\n",
        "    b.append(int(abs(x[i])%10))\n",
        "data = data.drop(['plans_universitypast_failures'], axis=1)\n",
        "data['plans_university'] = a\n",
        "data['past_failures'] = b\n",
        "print(data['age'].unique())\n",
        "current_year = 2006\n",
        "data['age'] = data['age'].apply(lambda x: current_year - x if x > 30 else x)\n",
        "print(data['age'].unique())\n",
        "data.to_csv('data_corrected.csv', index=False)\n",
        "print(data)"
      ]
    },
    {
      "cell_type": "markdown",
      "metadata": {
        "id": "w_ARHpap8eD3"
      },
      "source": [
        "### Задача 2: пропуски в данных\n",
        "__(1 балл)__\n",
        "\n",
        "Проверьте, есть ли в данных пропуски (значения NaN). Замените все пропущенные значения на среднее значение этого признака по столбцу.\n",
        "\n",
        "*Hint: изучите в pandas функции loc, isnull, а также передачу булевых массивов в качестве индексов.*"
      ]
    },
    {
      "cell_type": "code",
      "execution_count": null,
      "metadata": {
        "collapsed": true,
        "id": "07OJpf9O8eD5",
        "jupyter": {
          "outputs_hidden": true
        }
      },
      "outputs": [],
      "source": [
        "nan_count = data.isna().sum()\n",
        "print(nan_count)\n",
        "data['goout'].fillna(round(data['goout'].mean(), 1), inplace = True)\n",
        "data['Dalc'].fillna(round(data['Dalc'].mean(), 1), inplace = True)\n",
        "data['Walc'].fillna(round(data['Walc'].mean(), 1), inplace = True)\n",
        "nan_count = data.isna().sum().sum()\n",
        "print(nan_count)"
      ]
    },
    {
      "cell_type": "markdown",
      "metadata": {
        "id": "U83K6ACd8eD6"
      },
      "source": [
        "### Задача 3: нормализация данных\n",
        "__(1 балл)__\n",
        "\n",
        "Нормализуйте данные любым способом"
      ]
    },
    {
      "cell_type": "code",
      "execution_count": null,
      "metadata": {
        "collapsed": true,
        "id": "beAejG5a8eD8",
        "jupyter": {
          "outputs_hidden": true
        }
      },
      "outputs": [],
      "source": [
        "from sklearn.preprocessing import MinMaxScaler, StandardScaler\n",
        "\n",
        "scaler = MinMaxScaler()\n",
        "data_norm = scaler.fit_transform(data)\n",
        "print(data_norm)"
      ]
    },
    {
      "cell_type": "markdown",
      "metadata": {
        "id": "Iq9GBhxk8eD9"
      },
      "source": [
        "### Задача 4: кросс-валидация для исходных данных\n",
        "__(1 балл)__\n",
        "\n",
        "Загрузите файл scores.csv и протестируйте, как линейная регрессия предсказывает ответ сейчас (с помощью кросс-валидации).\n",
        "\n",
        "Кроссвалидацию сделайте по 4 разбивкам. Выведите качество в каждом их разбиений.\n",
        "\n",
        "*Hint: воспользуйтесь sklearn.linear_model и sklearn.model_selection.*"
      ]
    },
    {
      "cell_type": "code",
      "execution_count": null,
      "metadata": {
        "id": "uStzqRHn8eD-"
      },
      "outputs": [],
      "source": [
        "# Your code here\n",
        "# ..."
      ]
    },
    {
      "cell_type": "markdown",
      "metadata": {
        "id": "UJ-tSgI38eD_"
      },
      "source": [
        "### Задача 5: полные данные\n",
        "__(2 балла)__\n",
        "\n",
        "Воспользуйтесь файлами attendance.csv и school_support.txt для того, чтобы добавить новые признаки в данные. Желательно по максимуму использовать возможности pandas для упрощения преобразований.\n",
        "\n",
        "school_suport число в строке значит что i-ый школьник из исходной таблицы получал мат помощь (обратите внимание что строк в файле меньше, подумайте как правильно импортировать данные)\n",
        "\n",
        "Добавьте данные таким образом, чтобы качество выросло"
      ]
    },
    {
      "cell_type": "code",
      "execution_count": null,
      "metadata": {
        "collapsed": true,
        "id": "Gtq5oQ6j8eD_",
        "jupyter": {
          "outputs_hidden": true
        }
      },
      "outputs": [],
      "source": [
        "# Your code here\n",
        "# ..."
      ]
    },
    {
      "cell_type": "markdown",
      "metadata": {
        "id": "lWThTUZN8eEA"
      },
      "source": [
        "### Задача 6: борьба с выбросами\n",
        "__(1.5 балла)__\n",
        "\n",
        "Качество предсказания может ухудшаться, если в данных присутствуют корректные значения признаков (с точки зрения чтения данных и применения методов), но не соответствующие реальным объектам. Например, данные могли быть введены в неверном формате, а потом слишком грубо приведены к общему виду, из-за чего ошибка не была замечена.\n",
        "Попробуем от такого избавиться &mdash; а для этого такие объекты нужно сначала найти. Конечно, нам еще недоступны многие продвинутые способы, но давайте попробуем обойтись простыми.\n",
        "\n",
        "Первый способ это сделать &mdash; посмотреть для каждого признака на распределение его значений и проверить крайние значения на правдоподобность. (постройте гистограммы для признаков, как минимум для подозрительных)\n",
        "\n",
        "*Hint 1: используйте функцию DataFrame.hist*\n",
        "\n",
        "*Hint 2: в описании датасета выше есть информация, необходимая для восстановления правильных значений*"
      ]
    },
    {
      "cell_type": "code",
      "execution_count": null,
      "metadata": {
        "collapsed": true,
        "id": "zQC6nosv8eEA",
        "jupyter": {
          "outputs_hidden": true
        }
      },
      "outputs": [],
      "source": [
        "# Your code here\n",
        "# ..."
      ]
    },
    {
      "cell_type": "markdown",
      "metadata": {
        "id": "oW-Rimnj8eEB"
      },
      "source": [
        "__(1.5 балла)__"
      ]
    },
    {
      "cell_type": "markdown",
      "metadata": {
        "id": "7NcO0W_P8eEB"
      },
      "source": [
        "Другой простой способ найти выбросы &mdash; сделать предсказание и посчитать ошибку на каждом объекте по отдельности и посмотреть на объекты с наибольшей ошибкой. Обучите линейную регрессию (функция fit) и для каждого объекта посчитайте среднеквадратичное отклонение. Постройте гистограмму распределения ошибок. Посмотрите на гистограмму и удалите из выборки те объекты на которых ошибка слишком большая.\n",
        "\n",
        "Обратите внимание, что просто удалять все объекты с высокой ошибкой нельзя &mdash; это, конечно, хороший способ добиться меньшей ошибки (на данной выборке), но одновременно вы ухудшите обобщающую способность алгоритма. Вместо этого вам нужно найти однозначно ошибочные записи и их исправить.\n",
        "\n",
        "*Hint: возможно, все проблемы уже были найдены первым способом; для проверки &mdash; в сумме здесь нужно исправить 3 проблемы.*"
      ]
    },
    {
      "cell_type": "markdown",
      "metadata": {
        "id": "-NGsg65t8eEC"
      },
      "source": [
        "Для поиска ошибки на одном отдельном обьекте придётся обучить линейную регрессию руками. Частичный пример, допишите код. Постройте гистограмму распределения ошибок"
      ]
    },
    {
      "cell_type": "code",
      "execution_count": null,
      "metadata": {
        "id": "P8RFhDt58eEC",
        "outputId": "f03130e1-f518-4815-99f3-e76e8d08c2e9"
      },
      "outputs": [
        {
          "ename": "SyntaxError",
          "evalue": "invalid syntax (3289234131.py, line 4)",
          "output_type": "error",
          "traceback": [
            "\u001b[1;36m  Input \u001b[1;32mIn [3]\u001b[1;36m\u001b[0m\n\u001b[1;33m    prediction = #calculate prediction for one object for vector x\u001b[0m\n\u001b[1;37m                 ^\u001b[0m\n\u001b[1;31mSyntaxError\u001b[0m\u001b[1;31m:\u001b[0m invalid syntax\n"
          ]
        }
      ],
      "source": [
        "import sklearn\n",
        "from sklearn import linear_model\n",
        "regression = linear_model.LinearRegression().fit(data, result) #create model and train it\n",
        "prediction = #calculate prediction for one object for vector x\n",
        "error = (prediction - y)**2 #simple error - square error"
      ]
    },
    {
      "cell_type": "code",
      "execution_count": null,
      "metadata": {
        "id": "Y5C4-jwX8eEC"
      },
      "outputs": [],
      "source": [
        "# Your code here\n",
        "# ..."
      ]
    },
    {
      "cell_type": "markdown",
      "metadata": {
        "id": "p_cXvmsX8eEC"
      },
      "source": [
        "### Финальное предсказание и отчёт (1 балл)\n",
        "\n",
        "Проведите предсказание еще раз и сравните качество с исходным. Запишите свои наблюдения - как изменялось качество обучения модели при использовании разных модификаций данных."
      ]
    },
    {
      "cell_type": "code",
      "execution_count": null,
      "metadata": {
        "collapsed": true,
        "id": "uYfT-mfo8eED",
        "jupyter": {
          "outputs_hidden": true
        }
      },
      "outputs": [],
      "source": [
        "# Your code here\n",
        "# ..."
      ]
    }
  ],
  "metadata": {
    "colab": {
      "provenance": []
    },
    "kernelspec": {
      "display_name": "Python [conda env:base] *",
      "language": "python",
      "name": "conda-base-py"
    },
    "language_info": {
      "codemirror_mode": {
        "name": "ipython",
        "version": 3
      },
      "file_extension": ".py",
      "mimetype": "text/x-python",
      "name": "python",
      "nbconvert_exporter": "python",
      "pygments_lexer": "ipython3",
      "version": "3.12.7"
    }
  },
  "nbformat": 4,
  "nbformat_minor": 0
}
